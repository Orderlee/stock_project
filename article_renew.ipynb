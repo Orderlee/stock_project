{
 "metadata": {
  "language_info": {
   "codemirror_mode": {
    "name": "ipython",
    "version": 3
   },
   "file_extension": ".py",
   "mimetype": "text/x-python",
   "name": "python",
   "nbconvert_exporter": "python",
   "pygments_lexer": "ipython3",
   "version": "3.8.5-final"
  },
  "orig_nbformat": 2,
  "kernelspec": {
   "name": "Python 3.8.5 64-bit ('tensorflow': conda)",
   "display_name": "Python 3.8.5 64-bit ('tensorflow': conda)",
   "metadata": {
    "interpreter": {
     "hash": "442dd8120cf2ccdf5e70bd6e4172248486f130ea5b90b2d59b20a1843459306c"
    }
   }
  }
 },
 "nbformat": 4,
 "nbformat_minor": 2,
 "cells": [
  {
   "cell_type": "code",
   "execution_count": 14,
   "metadata": {},
   "outputs": [
    {
     "output_type": "execute_result",
     "data": {
      "text/plain": [
       "         date   close    open    high     low  volume  stock\n",
       "0  2020-10-16  157000  158000  160000  155000   89705  11070\n",
       "1  2020-10-15  159500  163000  163500  156000  127547  11070\n",
       "2  2020-10-14  163000  166000  169000  162500  224184  11070\n",
       "3  2020-10-13  163000  166500  168500  162000  195485  11070\n",
       "4  2020-10-12  162000  167500  168000  161500  117661  11070"
      ],
      "text/html": "<div>\n<style scoped>\n    .dataframe tbody tr th:only-of-type {\n        vertical-align: middle;\n    }\n\n    .dataframe tbody tr th {\n        vertical-align: top;\n    }\n\n    .dataframe thead th {\n        text-align: right;\n    }\n</style>\n<table border=\"1\" class=\"dataframe\">\n  <thead>\n    <tr style=\"text-align: right;\">\n      <th></th>\n      <th>date</th>\n      <th>close</th>\n      <th>open</th>\n      <th>high</th>\n      <th>low</th>\n      <th>volume</th>\n      <th>stock</th>\n    </tr>\n  </thead>\n  <tbody>\n    <tr>\n      <th>0</th>\n      <td>2020-10-16</td>\n      <td>157000</td>\n      <td>158000</td>\n      <td>160000</td>\n      <td>155000</td>\n      <td>89705</td>\n      <td>11070</td>\n    </tr>\n    <tr>\n      <th>1</th>\n      <td>2020-10-15</td>\n      <td>159500</td>\n      <td>163000</td>\n      <td>163500</td>\n      <td>156000</td>\n      <td>127547</td>\n      <td>11070</td>\n    </tr>\n    <tr>\n      <th>2</th>\n      <td>2020-10-14</td>\n      <td>163000</td>\n      <td>166000</td>\n      <td>169000</td>\n      <td>162500</td>\n      <td>224184</td>\n      <td>11070</td>\n    </tr>\n    <tr>\n      <th>3</th>\n      <td>2020-10-13</td>\n      <td>163000</td>\n      <td>166500</td>\n      <td>168500</td>\n      <td>162000</td>\n      <td>195485</td>\n      <td>11070</td>\n    </tr>\n    <tr>\n      <th>4</th>\n      <td>2020-10-12</td>\n      <td>162000</td>\n      <td>167500</td>\n      <td>168000</td>\n      <td>161500</td>\n      <td>117661</td>\n      <td>11070</td>\n    </tr>\n  </tbody>\n</table>\n</div>"
     },
     "metadata": {},
     "execution_count": 14
    }
   ],
   "source": [
    "import pandas as pd\n",
    "df1 = pd.read_csv('/Users/YoungWoo/stock_psychic_api/com_stock_api/naver_finance/data/lginnotek.csv',encoding='UTF-8-sig')\n",
    "df1.head()"
   ]
  },
  {
   "cell_type": "code",
   "execution_count": 11,
   "metadata": {},
   "outputs": [
    {
     "output_type": "execute_result",
     "data": {
      "text/plain": [
       "         date   close    open    high     low  volume  ticker\n",
       "0  2020-10-16  157000  158000  160000  155000   89705   11070\n",
       "1  2020-10-15  159500  163000  163500  156000  127547   11070\n",
       "2  2020-10-14  163000  166000  169000  162500  224184   11070\n",
       "3  2020-10-13  163000  166500  168500  162000  195485   11070\n",
       "4  2020-10-12  162000  167500  168000  161500  117661   11070"
      ],
      "text/html": "<div>\n<style scoped>\n    .dataframe tbody tr th:only-of-type {\n        vertical-align: middle;\n    }\n\n    .dataframe tbody tr th {\n        vertical-align: top;\n    }\n\n    .dataframe thead th {\n        text-align: right;\n    }\n</style>\n<table border=\"1\" class=\"dataframe\">\n  <thead>\n    <tr style=\"text-align: right;\">\n      <th></th>\n      <th>date</th>\n      <th>close</th>\n      <th>open</th>\n      <th>high</th>\n      <th>low</th>\n      <th>volume</th>\n      <th>ticker</th>\n    </tr>\n  </thead>\n  <tbody>\n    <tr>\n      <th>0</th>\n      <td>2020-10-16</td>\n      <td>157000</td>\n      <td>158000</td>\n      <td>160000</td>\n      <td>155000</td>\n      <td>89705</td>\n      <td>11070</td>\n    </tr>\n    <tr>\n      <th>1</th>\n      <td>2020-10-15</td>\n      <td>159500</td>\n      <td>163000</td>\n      <td>163500</td>\n      <td>156000</td>\n      <td>127547</td>\n      <td>11070</td>\n    </tr>\n    <tr>\n      <th>2</th>\n      <td>2020-10-14</td>\n      <td>163000</td>\n      <td>166000</td>\n      <td>169000</td>\n      <td>162500</td>\n      <td>224184</td>\n      <td>11070</td>\n    </tr>\n    <tr>\n      <th>3</th>\n      <td>2020-10-13</td>\n      <td>163000</td>\n      <td>166500</td>\n      <td>168500</td>\n      <td>162000</td>\n      <td>195485</td>\n      <td>11070</td>\n    </tr>\n    <tr>\n      <th>4</th>\n      <td>2020-10-12</td>\n      <td>162000</td>\n      <td>167500</td>\n      <td>168000</td>\n      <td>161500</td>\n      <td>117661</td>\n      <td>11070</td>\n    </tr>\n  </tbody>\n</table>\n</div>"
     },
     "metadata": {},
     "execution_count": 11
    }
   ],
   "source": [
    "df1.columns = ['date','close','open','high','low','volume','ticker']\n",
    "df1.head()"
   ]
  },
  {
   "cell_type": "code",
   "execution_count": 12,
   "metadata": {},
   "outputs": [
    {
     "output_type": "execute_result",
     "data": {
      "text/plain": [
       "             close    open    high     low  volume  ticker\n",
       "date                                                      \n",
       "2020-10-16  157000  158000  160000  155000   89705   11070\n",
       "2020-10-15  159500  163000  163500  156000  127547   11070\n",
       "2020-10-14  163000  166000  169000  162500  224184   11070\n",
       "2020-10-13  163000  166500  168500  162000  195485   11070\n",
       "2020-10-12  162000  167500  168000  161500  117661   11070"
      ],
      "text/html": "<div>\n<style scoped>\n    .dataframe tbody tr th:only-of-type {\n        vertical-align: middle;\n    }\n\n    .dataframe tbody tr th {\n        vertical-align: top;\n    }\n\n    .dataframe thead th {\n        text-align: right;\n    }\n</style>\n<table border=\"1\" class=\"dataframe\">\n  <thead>\n    <tr style=\"text-align: right;\">\n      <th></th>\n      <th>close</th>\n      <th>open</th>\n      <th>high</th>\n      <th>low</th>\n      <th>volume</th>\n      <th>ticker</th>\n    </tr>\n    <tr>\n      <th>date</th>\n      <th></th>\n      <th></th>\n      <th></th>\n      <th></th>\n      <th></th>\n      <th></th>\n    </tr>\n  </thead>\n  <tbody>\n    <tr>\n      <th>2020-10-16</th>\n      <td>157000</td>\n      <td>158000</td>\n      <td>160000</td>\n      <td>155000</td>\n      <td>89705</td>\n      <td>11070</td>\n    </tr>\n    <tr>\n      <th>2020-10-15</th>\n      <td>159500</td>\n      <td>163000</td>\n      <td>163500</td>\n      <td>156000</td>\n      <td>127547</td>\n      <td>11070</td>\n    </tr>\n    <tr>\n      <th>2020-10-14</th>\n      <td>163000</td>\n      <td>166000</td>\n      <td>169000</td>\n      <td>162500</td>\n      <td>224184</td>\n      <td>11070</td>\n    </tr>\n    <tr>\n      <th>2020-10-13</th>\n      <td>163000</td>\n      <td>166500</td>\n      <td>168500</td>\n      <td>162000</td>\n      <td>195485</td>\n      <td>11070</td>\n    </tr>\n    <tr>\n      <th>2020-10-12</th>\n      <td>162000</td>\n      <td>167500</td>\n      <td>168000</td>\n      <td>161500</td>\n      <td>117661</td>\n      <td>11070</td>\n    </tr>\n  </tbody>\n</table>\n</div>"
     },
     "metadata": {},
     "execution_count": 12
    }
   ],
   "source": [
    "df1['date']=pd.to_datetime(df1['date'].astype(str), format='%Y/%m/%d')\n",
    "df1.set_index('date', inplace=True)\n",
    "df1.head()"
   ]
  },
  {
   "cell_type": "code",
   "execution_count": 13,
   "metadata": {},
   "outputs": [
    {
     "output_type": "execute_result",
     "data": {
      "text/plain": [
       "             close    open    high     low  volume  ticker\n",
       "date                                                      \n",
       "2020-10-16  157000  158000  160000  155000   89705   11070\n",
       "2020-10-15  159500  163000  163500  156000  127547   11070\n",
       "2020-10-14  163000  166000  169000  162500  224184   11070\n",
       "2020-10-13  163000  166500  168500  162000  195485   11070\n",
       "2020-10-12  162000  167500  168000  161500  117661   11070"
      ],
      "text/html": "<div>\n<style scoped>\n    .dataframe tbody tr th:only-of-type {\n        vertical-align: middle;\n    }\n\n    .dataframe tbody tr th {\n        vertical-align: top;\n    }\n\n    .dataframe thead th {\n        text-align: right;\n    }\n</style>\n<table border=\"1\" class=\"dataframe\">\n  <thead>\n    <tr style=\"text-align: right;\">\n      <th></th>\n      <th>close</th>\n      <th>open</th>\n      <th>high</th>\n      <th>low</th>\n      <th>volume</th>\n      <th>ticker</th>\n    </tr>\n    <tr>\n      <th>date</th>\n      <th></th>\n      <th></th>\n      <th></th>\n      <th></th>\n      <th></th>\n      <th></th>\n    </tr>\n  </thead>\n  <tbody>\n    <tr>\n      <th>2020-10-16</th>\n      <td>157000</td>\n      <td>158000</td>\n      <td>160000</td>\n      <td>155000</td>\n      <td>89705</td>\n      <td>11070</td>\n    </tr>\n    <tr>\n      <th>2020-10-15</th>\n      <td>159500</td>\n      <td>163000</td>\n      <td>163500</td>\n      <td>156000</td>\n      <td>127547</td>\n      <td>11070</td>\n    </tr>\n    <tr>\n      <th>2020-10-14</th>\n      <td>163000</td>\n      <td>166000</td>\n      <td>169000</td>\n      <td>162500</td>\n      <td>224184</td>\n      <td>11070</td>\n    </tr>\n    <tr>\n      <th>2020-10-13</th>\n      <td>163000</td>\n      <td>166500</td>\n      <td>168500</td>\n      <td>162000</td>\n      <td>195485</td>\n      <td>11070</td>\n    </tr>\n    <tr>\n      <th>2020-10-12</th>\n      <td>162000</td>\n      <td>167500</td>\n      <td>168000</td>\n      <td>161500</td>\n      <td>117661</td>\n      <td>11070</td>\n    </tr>\n  </tbody>\n</table>\n</div>"
     },
     "metadata": {},
     "execution_count": 13
    }
   ],
   "source": [
    "#del df1['Unnamed: 0']\n",
    "df1.to_csv('/Users/YoungWoo/stock_psychic_api/com_stock_api/naver_finance/data/lginnotek.csv',encoding='UTF-8-sig')\n",
    "df1.head()"
   ]
  },
  {
   "cell_type": "code",
   "execution_count": null,
   "metadata": {},
   "outputs": [],
   "source": []
  }
 ]
}