{
 "metadata": {
  "language_info": {
   "codemirror_mode": {
    "name": "ipython",
    "version": 3
   },
   "file_extension": ".py",
   "mimetype": "text/x-python",
   "name": "python",
   "nbconvert_exporter": "python",
   "pygments_lexer": "ipython3",
   "version": "3.8.5-final"
  },
  "orig_nbformat": 2,
  "kernelspec": {
   "name": "Python 3.8.5 64-bit ('tensorflow': conda)",
   "display_name": "Python 3.8.5 64-bit ('tensorflow': conda)",
   "metadata": {
    "interpreter": {
     "hash": "442dd8120cf2ccdf5e70bd6e4172248486f130ea5b90b2d59b20a1843459306c"
    }
   }
  }
 },
 "nbformat": 4,
 "nbformat_minor": 2,
 "cells": [
  {
   "cell_type": "code",
   "execution_count": 1,
   "metadata": {},
   "outputs": [
    {
     "output_type": "execute_result",
     "data": {
      "text/plain": [
       "                  date                       headline  \\\n",
       "0  2020-07-06 17:38:00  LG화학 \"2050년 탄소배출 증가량 '제로' 목표\"   \n",
       "1  2020-07-06 15:49:00    LG화학 국내 최초 신재생에너지 100% 선언했다   \n",
       "2  2020-07-06 11:57:00       LG화학 모든 사업장 ‘100% 재생에너지’   \n",
       "3  2020-07-06 11:44:00     LG화학, 車 1,250만대분 탄소배출량 줄인다   \n",
       "4  2020-07-06 11:36:00     ‘클린 LG화학’ 빅픽처 ‘친환경과 성장 공존’   \n",
       "\n",
       "                                            contents  \\\n",
       "0  전 사업장서 재생에너지만 사용폐배터리 재사용재활용 추진  LG화학이 지속가능성장을 ...   \n",
       "1  안정준 기자 (상보)지속가능성(Sustainability) 전략이 모두 달성되는 2...   \n",
       "2  업계 첫 탄소중립 성장전략2050년 3000만t 배출감축LG화학이 전 세계 모든 생...   \n",
       "3  업계 첫 탄소 중립 성장 선언모든 사업장에 재생에너지 도입2050년까지 순증가량 0...   \n",
       "4  지속가능성 위한 5대 전략 발표신규 사업장 폐기물 재활용 의무화폐플라스틱 선순환 제...   \n",
       "\n",
       "                                                 url  ticker  \n",
       "0  https://finance.naver.com/item/news_read.nhn?a...  051910  \n",
       "1  https://finance.naver.com/item/news_read.nhn?a...  051910  \n",
       "2  https://finance.naver.com/item/news_read.nhn?a...  051910  \n",
       "3  https://finance.naver.com/item/news_read.nhn?a...  051910  \n",
       "4  https://finance.naver.com/item/news_read.nhn?a...  051910  "
      ],
      "text/html": "<div>\n<style scoped>\n    .dataframe tbody tr th:only-of-type {\n        vertical-align: middle;\n    }\n\n    .dataframe tbody tr th {\n        vertical-align: top;\n    }\n\n    .dataframe thead th {\n        text-align: right;\n    }\n</style>\n<table border=\"1\" class=\"dataframe\">\n  <thead>\n    <tr style=\"text-align: right;\">\n      <th></th>\n      <th>date</th>\n      <th>headline</th>\n      <th>contents</th>\n      <th>url</th>\n      <th>ticker</th>\n    </tr>\n  </thead>\n  <tbody>\n    <tr>\n      <th>0</th>\n      <td>2020-07-06 17:38:00</td>\n      <td>LG화학 \"2050년 탄소배출 증가량 '제로' 목표\"</td>\n      <td>전 사업장서 재생에너지만 사용폐배터리 재사용재활용 추진  LG화학이 지속가능성장을 ...</td>\n      <td>https://finance.naver.com/item/news_read.nhn?a...</td>\n      <td>051910</td>\n    </tr>\n    <tr>\n      <th>1</th>\n      <td>2020-07-06 15:49:00</td>\n      <td>LG화학 국내 최초 신재생에너지 100% 선언했다</td>\n      <td>안정준 기자 (상보)지속가능성(Sustainability) 전략이 모두 달성되는 2...</td>\n      <td>https://finance.naver.com/item/news_read.nhn?a...</td>\n      <td>051910</td>\n    </tr>\n    <tr>\n      <th>2</th>\n      <td>2020-07-06 11:57:00</td>\n      <td>LG화학 모든 사업장 ‘100% 재생에너지’</td>\n      <td>업계 첫 탄소중립 성장전략2050년 3000만t 배출감축LG화학이 전 세계 모든 생...</td>\n      <td>https://finance.naver.com/item/news_read.nhn?a...</td>\n      <td>051910</td>\n    </tr>\n    <tr>\n      <th>3</th>\n      <td>2020-07-06 11:44:00</td>\n      <td>LG화학, 車 1,250만대분 탄소배출량 줄인다</td>\n      <td>업계 첫 탄소 중립 성장 선언모든 사업장에 재생에너지 도입2050년까지 순증가량 0...</td>\n      <td>https://finance.naver.com/item/news_read.nhn?a...</td>\n      <td>051910</td>\n    </tr>\n    <tr>\n      <th>4</th>\n      <td>2020-07-06 11:36:00</td>\n      <td>‘클린 LG화학’ 빅픽처 ‘친환경과 성장 공존’</td>\n      <td>지속가능성 위한 5대 전략 발표신규 사업장 폐기물 재활용 의무화폐플라스틱 선순환 제...</td>\n      <td>https://finance.naver.com/item/news_read.nhn?a...</td>\n      <td>051910</td>\n    </tr>\n  </tbody>\n</table>\n</div>"
     },
     "metadata": {},
     "execution_count": 1
    }
   ],
   "source": [
    "import pandas as pd\n",
    "df1 = pd.read_csv('/Users/YoungWoo/stock_psychic_api/com_stock_api/resource/data/051910.csv',encoding='UTF-8',dtype=str)\n",
    "df1.head()"
   ]
  },
  {
   "cell_type": "code",
   "execution_count": 2,
   "metadata": {},
   "outputs": [
    {
     "output_type": "execute_result",
     "data": {
      "text/plain": [
       "                  date                       headline  \\\n",
       "0  2020-07-06 17:38:00  LG화학 \"2050년 탄소배출 증가량 '제로' 목표\"   \n",
       "1  2020-07-06 15:49:00    LG화학 국내 최초 신재생에너지 100% 선언했다   \n",
       "2  2020-07-06 11:57:00       LG화학 모든 사업장 ‘100% 재생에너지’   \n",
       "3  2020-07-06 11:44:00     LG화학, 車 1,250만대분 탄소배출량 줄인다   \n",
       "4  2020-07-06 11:36:00     ‘클린 LG화학’ 빅픽처 ‘친환경과 성장 공존’   \n",
       "\n",
       "                                             content  \\\n",
       "0  전 사업장서 재생에너지만 사용폐배터리 재사용재활용 추진  LG화학이 지속가능성장을 ...   \n",
       "1  안정준 기자 (상보)지속가능성(Sustainability) 전략이 모두 달성되는 2...   \n",
       "2  업계 첫 탄소중립 성장전략2050년 3000만t 배출감축LG화학이 전 세계 모든 생...   \n",
       "3  업계 첫 탄소 중립 성장 선언모든 사업장에 재생에너지 도입2050년까지 순증가량 0...   \n",
       "4  지속가능성 위한 5대 전략 발표신규 사업장 폐기물 재활용 의무화폐플라스틱 선순환 제...   \n",
       "\n",
       "                                                 url  ticker  \n",
       "0  https://finance.naver.com/item/news_read.nhn?a...  051910  \n",
       "1  https://finance.naver.com/item/news_read.nhn?a...  051910  \n",
       "2  https://finance.naver.com/item/news_read.nhn?a...  051910  \n",
       "3  https://finance.naver.com/item/news_read.nhn?a...  051910  \n",
       "4  https://finance.naver.com/item/news_read.nhn?a...  051910  "
      ],
      "text/html": "<div>\n<style scoped>\n    .dataframe tbody tr th:only-of-type {\n        vertical-align: middle;\n    }\n\n    .dataframe tbody tr th {\n        vertical-align: top;\n    }\n\n    .dataframe thead th {\n        text-align: right;\n    }\n</style>\n<table border=\"1\" class=\"dataframe\">\n  <thead>\n    <tr style=\"text-align: right;\">\n      <th></th>\n      <th>date</th>\n      <th>headline</th>\n      <th>content</th>\n      <th>url</th>\n      <th>ticker</th>\n    </tr>\n  </thead>\n  <tbody>\n    <tr>\n      <th>0</th>\n      <td>2020-07-06 17:38:00</td>\n      <td>LG화학 \"2050년 탄소배출 증가량 '제로' 목표\"</td>\n      <td>전 사업장서 재생에너지만 사용폐배터리 재사용재활용 추진  LG화학이 지속가능성장을 ...</td>\n      <td>https://finance.naver.com/item/news_read.nhn?a...</td>\n      <td>051910</td>\n    </tr>\n    <tr>\n      <th>1</th>\n      <td>2020-07-06 15:49:00</td>\n      <td>LG화학 국내 최초 신재생에너지 100% 선언했다</td>\n      <td>안정준 기자 (상보)지속가능성(Sustainability) 전략이 모두 달성되는 2...</td>\n      <td>https://finance.naver.com/item/news_read.nhn?a...</td>\n      <td>051910</td>\n    </tr>\n    <tr>\n      <th>2</th>\n      <td>2020-07-06 11:57:00</td>\n      <td>LG화학 모든 사업장 ‘100% 재생에너지’</td>\n      <td>업계 첫 탄소중립 성장전략2050년 3000만t 배출감축LG화학이 전 세계 모든 생...</td>\n      <td>https://finance.naver.com/item/news_read.nhn?a...</td>\n      <td>051910</td>\n    </tr>\n    <tr>\n      <th>3</th>\n      <td>2020-07-06 11:44:00</td>\n      <td>LG화학, 車 1,250만대분 탄소배출량 줄인다</td>\n      <td>업계 첫 탄소 중립 성장 선언모든 사업장에 재생에너지 도입2050년까지 순증가량 0...</td>\n      <td>https://finance.naver.com/item/news_read.nhn?a...</td>\n      <td>051910</td>\n    </tr>\n    <tr>\n      <th>4</th>\n      <td>2020-07-06 11:36:00</td>\n      <td>‘클린 LG화학’ 빅픽처 ‘친환경과 성장 공존’</td>\n      <td>지속가능성 위한 5대 전략 발표신규 사업장 폐기물 재활용 의무화폐플라스틱 선순환 제...</td>\n      <td>https://finance.naver.com/item/news_read.nhn?a...</td>\n      <td>051910</td>\n    </tr>\n  </tbody>\n</table>\n</div>"
     },
     "metadata": {},
     "execution_count": 2
    }
   ],
   "source": [
    "df1.columns = ['date','headline','content','url','ticker']\n",
    "df1.head()"
   ]
  },
  {
   "cell_type": "code",
   "execution_count": 3,
   "metadata": {},
   "outputs": [
    {
     "output_type": "execute_result",
     "data": {
      "text/plain": [
       "                                          headline  \\\n",
       "date                                                 \n",
       "2020-07-06 17:38:00  LG화학 \"2050년 탄소배출 증가량 '제로' 목표\"   \n",
       "2020-07-06 15:49:00    LG화학 국내 최초 신재생에너지 100% 선언했다   \n",
       "2020-07-06 11:57:00       LG화학 모든 사업장 ‘100% 재생에너지’   \n",
       "2020-07-06 11:44:00     LG화학, 車 1,250만대분 탄소배출량 줄인다   \n",
       "2020-07-06 11:36:00     ‘클린 LG화학’ 빅픽처 ‘친환경과 성장 공존’   \n",
       "\n",
       "                                                               content  \\\n",
       "date                                                                     \n",
       "2020-07-06 17:38:00  전 사업장서 재생에너지만 사용폐배터리 재사용재활용 추진  LG화학이 지속가능성장을 ...   \n",
       "2020-07-06 15:49:00  안정준 기자 (상보)지속가능성(Sustainability) 전략이 모두 달성되는 2...   \n",
       "2020-07-06 11:57:00  업계 첫 탄소중립 성장전략2050년 3000만t 배출감축LG화학이 전 세계 모든 생...   \n",
       "2020-07-06 11:44:00  업계 첫 탄소 중립 성장 선언모든 사업장에 재생에너지 도입2050년까지 순증가량 0...   \n",
       "2020-07-06 11:36:00  지속가능성 위한 5대 전략 발표신규 사업장 폐기물 재활용 의무화폐플라스틱 선순환 제...   \n",
       "\n",
       "                                                                   url  ticker  \n",
       "date                                                                            \n",
       "2020-07-06 17:38:00  https://finance.naver.com/item/news_read.nhn?a...  051910  \n",
       "2020-07-06 15:49:00  https://finance.naver.com/item/news_read.nhn?a...  051910  \n",
       "2020-07-06 11:57:00  https://finance.naver.com/item/news_read.nhn?a...  051910  \n",
       "2020-07-06 11:44:00  https://finance.naver.com/item/news_read.nhn?a...  051910  \n",
       "2020-07-06 11:36:00  https://finance.naver.com/item/news_read.nhn?a...  051910  "
      ],
      "text/html": "<div>\n<style scoped>\n    .dataframe tbody tr th:only-of-type {\n        vertical-align: middle;\n    }\n\n    .dataframe tbody tr th {\n        vertical-align: top;\n    }\n\n    .dataframe thead th {\n        text-align: right;\n    }\n</style>\n<table border=\"1\" class=\"dataframe\">\n  <thead>\n    <tr style=\"text-align: right;\">\n      <th></th>\n      <th>headline</th>\n      <th>content</th>\n      <th>url</th>\n      <th>ticker</th>\n    </tr>\n    <tr>\n      <th>date</th>\n      <th></th>\n      <th></th>\n      <th></th>\n      <th></th>\n    </tr>\n  </thead>\n  <tbody>\n    <tr>\n      <th>2020-07-06 17:38:00</th>\n      <td>LG화학 \"2050년 탄소배출 증가량 '제로' 목표\"</td>\n      <td>전 사업장서 재생에너지만 사용폐배터리 재사용재활용 추진  LG화학이 지속가능성장을 ...</td>\n      <td>https://finance.naver.com/item/news_read.nhn?a...</td>\n      <td>051910</td>\n    </tr>\n    <tr>\n      <th>2020-07-06 15:49:00</th>\n      <td>LG화학 국내 최초 신재생에너지 100% 선언했다</td>\n      <td>안정준 기자 (상보)지속가능성(Sustainability) 전략이 모두 달성되는 2...</td>\n      <td>https://finance.naver.com/item/news_read.nhn?a...</td>\n      <td>051910</td>\n    </tr>\n    <tr>\n      <th>2020-07-06 11:57:00</th>\n      <td>LG화학 모든 사업장 ‘100% 재생에너지’</td>\n      <td>업계 첫 탄소중립 성장전략2050년 3000만t 배출감축LG화학이 전 세계 모든 생...</td>\n      <td>https://finance.naver.com/item/news_read.nhn?a...</td>\n      <td>051910</td>\n    </tr>\n    <tr>\n      <th>2020-07-06 11:44:00</th>\n      <td>LG화학, 車 1,250만대분 탄소배출량 줄인다</td>\n      <td>업계 첫 탄소 중립 성장 선언모든 사업장에 재생에너지 도입2050년까지 순증가량 0...</td>\n      <td>https://finance.naver.com/item/news_read.nhn?a...</td>\n      <td>051910</td>\n    </tr>\n    <tr>\n      <th>2020-07-06 11:36:00</th>\n      <td>‘클린 LG화학’ 빅픽처 ‘친환경과 성장 공존’</td>\n      <td>지속가능성 위한 5대 전략 발표신규 사업장 폐기물 재활용 의무화폐플라스틱 선순환 제...</td>\n      <td>https://finance.naver.com/item/news_read.nhn?a...</td>\n      <td>051910</td>\n    </tr>\n  </tbody>\n</table>\n</div>"
     },
     "metadata": {},
     "execution_count": 3
    }
   ],
   "source": [
    "df1['date']=pd.to_datetime(df1['date'].astype(str), format='%Y/%m/%d')\n",
    "df1.set_index('date', inplace=True)\n",
    "df1.head()"
   ]
  },
  {
   "cell_type": "code",
   "execution_count": null,
   "metadata": {},
   "outputs": [],
   "source": [
    "del df1['Unnamed: 0']\n",
    "df1.head()"
   ]
  },
  {
   "cell_type": "code",
   "execution_count": 4,
   "metadata": {},
   "outputs": [
    {
     "output_type": "execute_result",
     "data": {
      "text/plain": [
       "                                          headline  \\\n",
       "date                                                 \n",
       "2020-07-06 17:38:00  LG화학 \"2050년 탄소배출 증가량 '제로' 목표\"   \n",
       "2020-07-06 15:49:00    LG화학 국내 최초 신재생에너지 100% 선언했다   \n",
       "2020-07-06 11:57:00       LG화학 모든 사업장 ‘100% 재생에너지’   \n",
       "2020-07-06 11:44:00     LG화학, 車 1,250만대분 탄소배출량 줄인다   \n",
       "2020-07-06 11:36:00     ‘클린 LG화학’ 빅픽처 ‘친환경과 성장 공존’   \n",
       "\n",
       "                                                               content  \\\n",
       "date                                                                     \n",
       "2020-07-06 17:38:00  전 사업장서 재생에너지만 사용폐배터리 재사용재활용 추진  LG화학이 지속가능성장을 ...   \n",
       "2020-07-06 15:49:00  안정준 기자 (상보)지속가능성(Sustainability) 전략이 모두 달성되는 2...   \n",
       "2020-07-06 11:57:00  업계 첫 탄소중립 성장전략2050년 3000만t 배출감축LG화학이 전 세계 모든 생...   \n",
       "2020-07-06 11:44:00  업계 첫 탄소 중립 성장 선언모든 사업장에 재생에너지 도입2050년까지 순증가량 0...   \n",
       "2020-07-06 11:36:00  지속가능성 위한 5대 전략 발표신규 사업장 폐기물 재활용 의무화폐플라스틱 선순환 제...   \n",
       "\n",
       "                                                                   url  ticker  \n",
       "date                                                                            \n",
       "2020-07-06 17:38:00  https://finance.naver.com/item/news_read.nhn?a...  051910  \n",
       "2020-07-06 15:49:00  https://finance.naver.com/item/news_read.nhn?a...  051910  \n",
       "2020-07-06 11:57:00  https://finance.naver.com/item/news_read.nhn?a...  051910  \n",
       "2020-07-06 11:44:00  https://finance.naver.com/item/news_read.nhn?a...  051910  \n",
       "2020-07-06 11:36:00  https://finance.naver.com/item/news_read.nhn?a...  051910  "
      ],
      "text/html": "<div>\n<style scoped>\n    .dataframe tbody tr th:only-of-type {\n        vertical-align: middle;\n    }\n\n    .dataframe tbody tr th {\n        vertical-align: top;\n    }\n\n    .dataframe thead th {\n        text-align: right;\n    }\n</style>\n<table border=\"1\" class=\"dataframe\">\n  <thead>\n    <tr style=\"text-align: right;\">\n      <th></th>\n      <th>headline</th>\n      <th>content</th>\n      <th>url</th>\n      <th>ticker</th>\n    </tr>\n    <tr>\n      <th>date</th>\n      <th></th>\n      <th></th>\n      <th></th>\n      <th></th>\n    </tr>\n  </thead>\n  <tbody>\n    <tr>\n      <th>2020-07-06 17:38:00</th>\n      <td>LG화학 \"2050년 탄소배출 증가량 '제로' 목표\"</td>\n      <td>전 사업장서 재생에너지만 사용폐배터리 재사용재활용 추진  LG화학이 지속가능성장을 ...</td>\n      <td>https://finance.naver.com/item/news_read.nhn?a...</td>\n      <td>051910</td>\n    </tr>\n    <tr>\n      <th>2020-07-06 15:49:00</th>\n      <td>LG화학 국내 최초 신재생에너지 100% 선언했다</td>\n      <td>안정준 기자 (상보)지속가능성(Sustainability) 전략이 모두 달성되는 2...</td>\n      <td>https://finance.naver.com/item/news_read.nhn?a...</td>\n      <td>051910</td>\n    </tr>\n    <tr>\n      <th>2020-07-06 11:57:00</th>\n      <td>LG화학 모든 사업장 ‘100% 재생에너지’</td>\n      <td>업계 첫 탄소중립 성장전략2050년 3000만t 배출감축LG화학이 전 세계 모든 생...</td>\n      <td>https://finance.naver.com/item/news_read.nhn?a...</td>\n      <td>051910</td>\n    </tr>\n    <tr>\n      <th>2020-07-06 11:44:00</th>\n      <td>LG화학, 車 1,250만대분 탄소배출량 줄인다</td>\n      <td>업계 첫 탄소 중립 성장 선언모든 사업장에 재생에너지 도입2050년까지 순증가량 0...</td>\n      <td>https://finance.naver.com/item/news_read.nhn?a...</td>\n      <td>051910</td>\n    </tr>\n    <tr>\n      <th>2020-07-06 11:36:00</th>\n      <td>‘클린 LG화학’ 빅픽처 ‘친환경과 성장 공존’</td>\n      <td>지속가능성 위한 5대 전략 발표신규 사업장 폐기물 재활용 의무화폐플라스틱 선순환 제...</td>\n      <td>https://finance.naver.com/item/news_read.nhn?a...</td>\n      <td>051910</td>\n    </tr>\n  </tbody>\n</table>\n</div>"
     },
     "metadata": {},
     "execution_count": 4
    }
   ],
   "source": [
    "df1.to_csv('/Users/YoungWoo/stock_psychic_api/com_stock_api/resource/data/051910.csv',encoding='UTF-8')\n",
    "df1.head()"
   ]
  },
  {
   "cell_type": "code",
   "execution_count": null,
   "metadata": {},
   "outputs": [],
   "source": []
  }
 ]
}