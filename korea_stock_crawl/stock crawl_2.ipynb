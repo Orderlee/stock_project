{
 "cells": [
  {
   "cell_type": "code",
   "execution_count": 38,
   "metadata": {},
   "outputs": [
    {
     "output_type": "execute_result",
     "data": {
      "text/plain": "     company    code\n0        DSR  155660\n1      GS글로벌  001250\n2  HDC현대산업개발  294870\n3      KG케미칼  001390\n4      LG이노텍  011070",
      "text/html": "<div>\n<style scoped>\n    .dataframe tbody tr th:only-of-type {\n        vertical-align: middle;\n    }\n\n    .dataframe tbody tr th {\n        vertical-align: top;\n    }\n\n    .dataframe thead th {\n        text-align: right;\n    }\n</style>\n<table border=\"1\" class=\"dataframe\">\n  <thead>\n    <tr style=\"text-align: right;\">\n      <th></th>\n      <th>company</th>\n      <th>code</th>\n    </tr>\n  </thead>\n  <tbody>\n    <tr>\n      <th>0</th>\n      <td>DSR</td>\n      <td>155660</td>\n    </tr>\n    <tr>\n      <th>1</th>\n      <td>GS글로벌</td>\n      <td>001250</td>\n    </tr>\n    <tr>\n      <th>2</th>\n      <td>HDC현대산업개발</td>\n      <td>294870</td>\n    </tr>\n    <tr>\n      <th>3</th>\n      <td>KG케미칼</td>\n      <td>001390</td>\n    </tr>\n    <tr>\n      <th>4</th>\n      <td>LG이노텍</td>\n      <td>011070</td>\n    </tr>\n  </tbody>\n</table>\n</div>"
     },
     "metadata": {},
     "execution_count": 38
    }
   ],
   "source": [
    "import pandas as pd\n",
    "stock_code = pd.read_html('http://kind.krx.co.kr/corpgeneral/corpList.do?method=download&searchType=13',\n",
    "                       header=0)[0]\n",
    "stock_code.종목코드=stock_code.종목코드.map('{:06d}'.format)\n",
    "\n",
    "stock_code=stock_code[['회사명','종목코드']]\n",
    "\n",
    "stock_code=stock_code.rename(columns={'회사명':'company','종목코드':'code'})\n",
    "stock_code.to_csv('/Users/YoungWoo/stock/company.csv', index=False, encoding='UTF-8')\n",
    "#code_df.head()\n",
    "stock_code.head()\n"
   ]
  },
  {
   "cell_type": "code",
   "execution_count": 45,
   "metadata": {
    "tags": []
   },
   "outputs": [],
   "source": [
    "import requests\n",
    "from bs4 import BeautifulSoup\n",
    "\n",
    "plusUrl = input('회사:').upper()\n",
    "plusUrl = stock_code[stock_code.company==plusUrl].code.values[0].strip()\n",
    "#print(plusUrl)\n",
    "\n",
    "def refine_price(text):\n",
    "    price=int(text.replace(\",\",\"\"))\n",
    "    return price\n",
    "#print(type(price))\n",
    "\n",
    "result=[]\n",
    "for i in range(1,90):\n",
    "    url='https://finance.naver.com/item/sise_day.nhn?code='+str(plusUrl)+'&page={}'.format(i)\n",
    "    response=requests.get(url)\n",
    "    text=response.text\n",
    "    html=BeautifulSoup(text,'html.parser')\n",
    "    table0=html.find_all(\"tr\",{\"onmouseover\":\"mouseOver(this)\"})\n",
    "    #print(url)\n",
    "    \n",
    "    for tr in table0:\n",
    "        date= tr.find_all('td')[0].text\n",
    "        temp=[]  \n",
    "        \n",
    "        for idx,td in enumerate(tr.find_all('td')[1:]):\n",
    "            if idx==1:\n",
    "                try:\n",
    "                    #print(td.find()['alt'])\n",
    "                    temp.append(td.find()['alt'])\n",
    "                except: \n",
    "                    temp.append('')\n",
    "                \n",
    "            price=refine_price(td.text)\n",
    "            #print(price)\n",
    "            temp.append(price)\n",
    "        \n",
    "        #print([date]+temp)\n",
    "        result.append([date]+temp)\n",
    "        \n",
    "#print(result)        "
   ]
  },
  {
   "cell_type": "code",
   "execution_count": 46,
   "metadata": {
    "scrolled": false
   },
   "outputs": [
    {
     "output_type": "execute_result",
     "data": {
      "text/plain": "           date   close up/down  pastday    open    high     low   volume\n0    2020.10.05  370500      상승     6000  360500  370500  358000   519982\n1    2020.09.29  364500      하락     4500  374500  375000  364000   612054\n2    2020.09.28  369000      상승    17500  356500  372000  354000   674705\n3    2020.09.25  351500      하락      500  356000  358000  346500   449701\n4    2020.09.24  352000      하락    13500  361000  361500  351000   763638\n..          ...     ...     ...      ...     ...     ...     ...      ...\n885  2017.02.22   89500      상승     1100   88600   90200   88200  1034489\n886  2017.02.21   88400      상승     3600   85700   89100   85700  1573781\n887  2017.02.20   84800      상승      100   84400   85300   83600   294768\n888  2017.02.17   84700      상승     2300   82400   85300   82400   563691\n889  2017.02.16   82400      하락     2500   84600   84800   82200   569723\n\n[890 rows x 8 columns]",
      "text/html": "<div>\n<style scoped>\n    .dataframe tbody tr th:only-of-type {\n        vertical-align: middle;\n    }\n\n    .dataframe tbody tr th {\n        vertical-align: top;\n    }\n\n    .dataframe thead th {\n        text-align: right;\n    }\n</style>\n<table border=\"1\" class=\"dataframe\">\n  <thead>\n    <tr style=\"text-align: right;\">\n      <th></th>\n      <th>date</th>\n      <th>close</th>\n      <th>up/down</th>\n      <th>pastday</th>\n      <th>open</th>\n      <th>high</th>\n      <th>low</th>\n      <th>volume</th>\n    </tr>\n  </thead>\n  <tbody>\n    <tr>\n      <th>0</th>\n      <td>2020.10.05</td>\n      <td>370500</td>\n      <td>상승</td>\n      <td>6000</td>\n      <td>360500</td>\n      <td>370500</td>\n      <td>358000</td>\n      <td>519982</td>\n    </tr>\n    <tr>\n      <th>1</th>\n      <td>2020.09.29</td>\n      <td>364500</td>\n      <td>하락</td>\n      <td>4500</td>\n      <td>374500</td>\n      <td>375000</td>\n      <td>364000</td>\n      <td>612054</td>\n    </tr>\n    <tr>\n      <th>2</th>\n      <td>2020.09.28</td>\n      <td>369000</td>\n      <td>상승</td>\n      <td>17500</td>\n      <td>356500</td>\n      <td>372000</td>\n      <td>354000</td>\n      <td>674705</td>\n    </tr>\n    <tr>\n      <th>3</th>\n      <td>2020.09.25</td>\n      <td>351500</td>\n      <td>하락</td>\n      <td>500</td>\n      <td>356000</td>\n      <td>358000</td>\n      <td>346500</td>\n      <td>449701</td>\n    </tr>\n    <tr>\n      <th>4</th>\n      <td>2020.09.24</td>\n      <td>352000</td>\n      <td>하락</td>\n      <td>13500</td>\n      <td>361000</td>\n      <td>361500</td>\n      <td>351000</td>\n      <td>763638</td>\n    </tr>\n    <tr>\n      <th>...</th>\n      <td>...</td>\n      <td>...</td>\n      <td>...</td>\n      <td>...</td>\n      <td>...</td>\n      <td>...</td>\n      <td>...</td>\n      <td>...</td>\n    </tr>\n    <tr>\n      <th>885</th>\n      <td>2017.02.22</td>\n      <td>89500</td>\n      <td>상승</td>\n      <td>1100</td>\n      <td>88600</td>\n      <td>90200</td>\n      <td>88200</td>\n      <td>1034489</td>\n    </tr>\n    <tr>\n      <th>886</th>\n      <td>2017.02.21</td>\n      <td>88400</td>\n      <td>상승</td>\n      <td>3600</td>\n      <td>85700</td>\n      <td>89100</td>\n      <td>85700</td>\n      <td>1573781</td>\n    </tr>\n    <tr>\n      <th>887</th>\n      <td>2017.02.20</td>\n      <td>84800</td>\n      <td>상승</td>\n      <td>100</td>\n      <td>84400</td>\n      <td>85300</td>\n      <td>83600</td>\n      <td>294768</td>\n    </tr>\n    <tr>\n      <th>888</th>\n      <td>2017.02.17</td>\n      <td>84700</td>\n      <td>상승</td>\n      <td>2300</td>\n      <td>82400</td>\n      <td>85300</td>\n      <td>82400</td>\n      <td>563691</td>\n    </tr>\n    <tr>\n      <th>889</th>\n      <td>2017.02.16</td>\n      <td>82400</td>\n      <td>하락</td>\n      <td>2500</td>\n      <td>84600</td>\n      <td>84800</td>\n      <td>82200</td>\n      <td>569723</td>\n    </tr>\n  </tbody>\n</table>\n<p>890 rows × 8 columns</p>\n</div>"
     },
     "metadata": {},
     "execution_count": 46
    }
   ],
   "source": [
    "df_temp=pd.DataFrame(result,columns=['date','close','up/down','pastday','open','high','low','volume']) #'날짜','종가','상승/하락','전일대비','시가','고가','저가','거래량'\n",
    "df_temp"
   ]
  },
  {
   "cell_type": "code",
   "execution_count": 47,
   "metadata": {},
   "outputs": [
    {
     "output_type": "execute_result",
     "data": {
      "text/plain": "           date   close up/down  pastday    open    high     low   volume\n0    2020.10.05  370500      상승     6000  360500  370500  358000   519982\n1    2020.09.29  364500      하락     4500  374500  375000  364000   612054\n2    2020.09.28  369000      상승    17500  356500  372000  354000   674705\n3    2020.09.25  351500      하락      500  356000  358000  346500   449701\n4    2020.09.24  352000      하락    13500  361000  361500  351000   763638\n..          ...     ...     ...      ...     ...     ...     ...      ...\n885  2017.02.22   89500      상승     1100   88600   90200   88200  1034489\n886  2017.02.21   88400      상승     3600   85700   89100   85700  1573781\n887  2017.02.20   84800      상승      100   84400   85300   83600   294768\n888  2017.02.17   84700      상승     2300   82400   85300   82400   563691\n889  2017.02.16   82400      하락     2500   84600   84800   82200   569723\n\n[890 rows x 8 columns]",
      "text/html": "<div>\n<style scoped>\n    .dataframe tbody tr th:only-of-type {\n        vertical-align: middle;\n    }\n\n    .dataframe tbody tr th {\n        vertical-align: top;\n    }\n\n    .dataframe thead th {\n        text-align: right;\n    }\n</style>\n<table border=\"1\" class=\"dataframe\">\n  <thead>\n    <tr style=\"text-align: right;\">\n      <th></th>\n      <th>date</th>\n      <th>close</th>\n      <th>up/down</th>\n      <th>pastday</th>\n      <th>open</th>\n      <th>high</th>\n      <th>low</th>\n      <th>volume</th>\n    </tr>\n  </thead>\n  <tbody>\n    <tr>\n      <th>0</th>\n      <td>2020.10.05</td>\n      <td>370500</td>\n      <td>상승</td>\n      <td>6000</td>\n      <td>360500</td>\n      <td>370500</td>\n      <td>358000</td>\n      <td>519982</td>\n    </tr>\n    <tr>\n      <th>1</th>\n      <td>2020.09.29</td>\n      <td>364500</td>\n      <td>하락</td>\n      <td>4500</td>\n      <td>374500</td>\n      <td>375000</td>\n      <td>364000</td>\n      <td>612054</td>\n    </tr>\n    <tr>\n      <th>2</th>\n      <td>2020.09.28</td>\n      <td>369000</td>\n      <td>상승</td>\n      <td>17500</td>\n      <td>356500</td>\n      <td>372000</td>\n      <td>354000</td>\n      <td>674705</td>\n    </tr>\n    <tr>\n      <th>3</th>\n      <td>2020.09.25</td>\n      <td>351500</td>\n      <td>하락</td>\n      <td>500</td>\n      <td>356000</td>\n      <td>358000</td>\n      <td>346500</td>\n      <td>449701</td>\n    </tr>\n    <tr>\n      <th>4</th>\n      <td>2020.09.24</td>\n      <td>352000</td>\n      <td>하락</td>\n      <td>13500</td>\n      <td>361000</td>\n      <td>361500</td>\n      <td>351000</td>\n      <td>763638</td>\n    </tr>\n    <tr>\n      <th>...</th>\n      <td>...</td>\n      <td>...</td>\n      <td>...</td>\n      <td>...</td>\n      <td>...</td>\n      <td>...</td>\n      <td>...</td>\n      <td>...</td>\n    </tr>\n    <tr>\n      <th>885</th>\n      <td>2017.02.22</td>\n      <td>89500</td>\n      <td>상승</td>\n      <td>1100</td>\n      <td>88600</td>\n      <td>90200</td>\n      <td>88200</td>\n      <td>1034489</td>\n    </tr>\n    <tr>\n      <th>886</th>\n      <td>2017.02.21</td>\n      <td>88400</td>\n      <td>상승</td>\n      <td>3600</td>\n      <td>85700</td>\n      <td>89100</td>\n      <td>85700</td>\n      <td>1573781</td>\n    </tr>\n    <tr>\n      <th>887</th>\n      <td>2017.02.20</td>\n      <td>84800</td>\n      <td>상승</td>\n      <td>100</td>\n      <td>84400</td>\n      <td>85300</td>\n      <td>83600</td>\n      <td>294768</td>\n    </tr>\n    <tr>\n      <th>888</th>\n      <td>2017.02.17</td>\n      <td>84700</td>\n      <td>상승</td>\n      <td>2300</td>\n      <td>82400</td>\n      <td>85300</td>\n      <td>82400</td>\n      <td>563691</td>\n    </tr>\n    <tr>\n      <th>889</th>\n      <td>2017.02.16</td>\n      <td>82400</td>\n      <td>하락</td>\n      <td>2500</td>\n      <td>84600</td>\n      <td>84800</td>\n      <td>82200</td>\n      <td>569723</td>\n    </tr>\n  </tbody>\n</table>\n<p>890 rows × 8 columns</p>\n</div>"
     },
     "metadata": {},
     "execution_count": 47
    }
   ],
   "source": [
    "df_stock=df_temp.replace('','동일')\n",
    "df_stock"
   ]
  },
  {
   "cell_type": "code",
   "execution_count": 42,
   "metadata": {},
   "outputs": [
    {
     "output_type": "execute_result",
     "data": {
      "text/plain": "           date   close  up/down  pastday    open    high     low   volume\n0    2020.10.05  187000        1     8500  183000  187500  181500  2707275\n1    2020.09.29  178500        1     3000  178500  180000  177500  1475249\n2    2020.09.28  175500        1     5500  173000  176000  172000  1374871\n3    2020.09.25  170000        0     1500  172500  174000  166000  2076987\n4    2020.09.24  171500        0     8000  173500  176000  171000  2841908\n..          ...     ...      ...      ...     ...     ...     ...      ...\n885  2017.02.22  149500        0     1500  150000  151000  147000   423978\n886  2017.02.21  151000        1     1000  150000  151500  149000   324845\n887  2017.02.20  150000        0      500  149500  151000  149500   239916\n888  2017.02.17  150500        2        0  149500  151000  148000   484244\n889  2017.02.16  150500        1     5000  146500  151500  146500   991329\n\n[890 rows x 8 columns]",
      "text/html": "<div>\n<style scoped>\n    .dataframe tbody tr th:only-of-type {\n        vertical-align: middle;\n    }\n\n    .dataframe tbody tr th {\n        vertical-align: top;\n    }\n\n    .dataframe thead th {\n        text-align: right;\n    }\n</style>\n<table border=\"1\" class=\"dataframe\">\n  <thead>\n    <tr style=\"text-align: right;\">\n      <th></th>\n      <th>date</th>\n      <th>close</th>\n      <th>up/down</th>\n      <th>pastday</th>\n      <th>open</th>\n      <th>high</th>\n      <th>low</th>\n      <th>volume</th>\n    </tr>\n  </thead>\n  <tbody>\n    <tr>\n      <th>0</th>\n      <td>2020.10.05</td>\n      <td>187000</td>\n      <td>1</td>\n      <td>8500</td>\n      <td>183000</td>\n      <td>187500</td>\n      <td>181500</td>\n      <td>2707275</td>\n    </tr>\n    <tr>\n      <th>1</th>\n      <td>2020.09.29</td>\n      <td>178500</td>\n      <td>1</td>\n      <td>3000</td>\n      <td>178500</td>\n      <td>180000</td>\n      <td>177500</td>\n      <td>1475249</td>\n    </tr>\n    <tr>\n      <th>2</th>\n      <td>2020.09.28</td>\n      <td>175500</td>\n      <td>1</td>\n      <td>5500</td>\n      <td>173000</td>\n      <td>176000</td>\n      <td>172000</td>\n      <td>1374871</td>\n    </tr>\n    <tr>\n      <th>3</th>\n      <td>2020.09.25</td>\n      <td>170000</td>\n      <td>0</td>\n      <td>1500</td>\n      <td>172500</td>\n      <td>174000</td>\n      <td>166000</td>\n      <td>2076987</td>\n    </tr>\n    <tr>\n      <th>4</th>\n      <td>2020.09.24</td>\n      <td>171500</td>\n      <td>0</td>\n      <td>8000</td>\n      <td>173500</td>\n      <td>176000</td>\n      <td>171000</td>\n      <td>2841908</td>\n    </tr>\n    <tr>\n      <th>...</th>\n      <td>...</td>\n      <td>...</td>\n      <td>...</td>\n      <td>...</td>\n      <td>...</td>\n      <td>...</td>\n      <td>...</td>\n      <td>...</td>\n    </tr>\n    <tr>\n      <th>885</th>\n      <td>2017.02.22</td>\n      <td>149500</td>\n      <td>0</td>\n      <td>1500</td>\n      <td>150000</td>\n      <td>151000</td>\n      <td>147000</td>\n      <td>423978</td>\n    </tr>\n    <tr>\n      <th>886</th>\n      <td>2017.02.21</td>\n      <td>151000</td>\n      <td>1</td>\n      <td>1000</td>\n      <td>150000</td>\n      <td>151500</td>\n      <td>149000</td>\n      <td>324845</td>\n    </tr>\n    <tr>\n      <th>887</th>\n      <td>2017.02.20</td>\n      <td>150000</td>\n      <td>0</td>\n      <td>500</td>\n      <td>149500</td>\n      <td>151000</td>\n      <td>149500</td>\n      <td>239916</td>\n    </tr>\n    <tr>\n      <th>888</th>\n      <td>2017.02.17</td>\n      <td>150500</td>\n      <td>2</td>\n      <td>0</td>\n      <td>149500</td>\n      <td>151000</td>\n      <td>148000</td>\n      <td>484244</td>\n    </tr>\n    <tr>\n      <th>889</th>\n      <td>2017.02.16</td>\n      <td>150500</td>\n      <td>1</td>\n      <td>5000</td>\n      <td>146500</td>\n      <td>151500</td>\n      <td>146500</td>\n      <td>991329</td>\n    </tr>\n  </tbody>\n</table>\n<p>890 rows × 8 columns</p>\n</div>"
     },
     "metadata": {},
     "execution_count": 42
    }
   ],
   "source": [
    "df_stock['up/down']=df_stock['up/down'].map({'하락':0,'상승':1,'동일':2})\n",
    "df_stock"
   ]
  },
  {
   "cell_type": "code",
   "execution_count": 48,
   "metadata": {},
   "outputs": [
    {
     "output_type": "execute_result",
     "data": {
      "text/plain": "             close up/down  pastday    open    high     low  volume\ndate                                                               \n2020-10-05  370500      상승     6000  360500  370500  358000  519982\n2020-09-29  364500      하락     4500  374500  375000  364000  612054\n2020-09-28  369000      상승    17500  356500  372000  354000  674705\n2020-09-25  351500      하락      500  356000  358000  346500  449701\n2020-09-24  352000      하락    13500  361000  361500  351000  763638",
      "text/html": "<div>\n<style scoped>\n    .dataframe tbody tr th:only-of-type {\n        vertical-align: middle;\n    }\n\n    .dataframe tbody tr th {\n        vertical-align: top;\n    }\n\n    .dataframe thead th {\n        text-align: right;\n    }\n</style>\n<table border=\"1\" class=\"dataframe\">\n  <thead>\n    <tr style=\"text-align: right;\">\n      <th></th>\n      <th>close</th>\n      <th>up/down</th>\n      <th>pastday</th>\n      <th>open</th>\n      <th>high</th>\n      <th>low</th>\n      <th>volume</th>\n    </tr>\n    <tr>\n      <th>date</th>\n      <th></th>\n      <th></th>\n      <th></th>\n      <th></th>\n      <th></th>\n      <th></th>\n      <th></th>\n    </tr>\n  </thead>\n  <tbody>\n    <tr>\n      <th>2020-10-05</th>\n      <td>370500</td>\n      <td>상승</td>\n      <td>6000</td>\n      <td>360500</td>\n      <td>370500</td>\n      <td>358000</td>\n      <td>519982</td>\n    </tr>\n    <tr>\n      <th>2020-09-29</th>\n      <td>364500</td>\n      <td>하락</td>\n      <td>4500</td>\n      <td>374500</td>\n      <td>375000</td>\n      <td>364000</td>\n      <td>612054</td>\n    </tr>\n    <tr>\n      <th>2020-09-28</th>\n      <td>369000</td>\n      <td>상승</td>\n      <td>17500</td>\n      <td>356500</td>\n      <td>372000</td>\n      <td>354000</td>\n      <td>674705</td>\n    </tr>\n    <tr>\n      <th>2020-09-25</th>\n      <td>351500</td>\n      <td>하락</td>\n      <td>500</td>\n      <td>356000</td>\n      <td>358000</td>\n      <td>346500</td>\n      <td>449701</td>\n    </tr>\n    <tr>\n      <th>2020-09-24</th>\n      <td>352000</td>\n      <td>하락</td>\n      <td>13500</td>\n      <td>361000</td>\n      <td>361500</td>\n      <td>351000</td>\n      <td>763638</td>\n    </tr>\n  </tbody>\n</table>\n</div>"
     },
     "metadata": {},
     "execution_count": 48
    }
   ],
   "source": [
    "df_stock['date']=pd.to_datetime(df_stock['date'])\n",
    "df_stock.set_index('date', inplace=True)\n",
    "df_stock.to_csv('/Users/YoungWoo/stock/kakao.csv',encoding='UTF-8')\n",
    "df_stock.head()"
   ]
  },
  {
   "cell_type": "code",
   "execution_count": null,
   "metadata": {},
   "outputs": [],
   "source": [
    "import matplotlib.pyplot as plt\n",
    "%matplotlib inline\n",
    "df_stock['close'].plot(figsize=(12,6), grid=True);"
   ]
  },
  {
   "cell_type": "code",
   "execution_count": null,
   "metadata": {},
   "outputs": [],
   "source": [
    "# 반응형 차트 그리는 코드\n",
    "fig = px.line(df, x='date', y='close', title='{}의 종가(close) Time Series'.format(company))\n",
    "\n",
    "fig.update_xaxes(\n",
    "    rangeslider_visible=True,\n",
    "    rangeselector=dict(\n",
    "        buttons=list([\n",
    "            dict(count=1, label=\"1m\", step=\"month\", stepmode=\"backward\"),\n",
    "            dict(count=3, label=\"3m\", step=\"month\", stepmode=\"backward\"),\n",
    "            dict(count=6, label=\"6m\", step=\"month\", stepmode=\"backward\"),\n",
    "            dict(step=\"all\")\n",
    "        ])\n",
    "    )\n",
    ")\n",
    "fig.show()"
   ]
  },
  {
   "cell_type": "code",
   "execution_count": null,
   "metadata": {},
   "outputs": [],
   "source": [
    "단순형 차트\n",
    "import matplotlib.pyplot as plt\n",
    "# 필요한 모듈 import 하기 \n",
    "import plotly\n",
    "import plotly.graph_objects as go\n",
    "import plotly.express as px\n",
    "\n",
    "# %matplotlib inline 은 jupyter notebook 사용자용 - jupyter notebook 내에 그래프가 그려지게 한다.\n",
    "%matplotlib inline \n",
    "\n",
    "plt.figure(figsize=(10,4))\n",
    "plt.plot(df['date'], df['close'])\n",
    "plt.xlabel('')\n",
    "plt.ylabel('close')\n",
    "plt.tick_params(\n",
    "    axis='x',          # changes apply to the x-axis\n",
    "    which='both',      # both major and minor ticks are affected\n",
    "    bottom=False,      # ticks along the bottom edge are off\n",
    "    top=False,         # ticks along the top edge are off\n",
    "    labelbottom=False) # labels along the bottom edge are off\n",
    "plt.savefig(company + \".png\")\n",
    "plt.show()"
   ]
  },
  {
   "cell_type": "code",
   "execution_count": null,
   "metadata": {},
   "outputs": [],
   "source": [
    "import cx_Oracle #오라클 접속 모듈 로딩\n",
    "#오라클 서버에 접속 '아이디/비번@호스트:포트번호/sid'\n",
    "conn=cx_Oracle.connect('hr/hr@localhost:1521/xe')\n",
    "cursor=conn.cursor() #커서생성\n",
    "sql='''\n",
    "select * from stock\n",
    "'''\n",
    "cursor.execute(sql) #sql 명령어 실행\n",
    "rows=cursor.fetchall() #결과셋을 리스트로 저장\n",
    "print('회사\\t코드')\n",
    "for row in rows:\n",
    "    print('{}\\t{}'.format(row[0],row[1]))\n",
    "#데이터베이스 관련 리소스 정리\n",
    "cursor.close()\n",
    "conn.close()"
   ]
  }
 ],
 "metadata": {
  "kernelspec": {
   "display_name": "Python 3",
   "language": "python",
   "name": "python3"
  },
  "language_info": {
   "codemirror_mode": {
    "name": "ipython",
    "version": 3
   },
   "file_extension": ".py",
   "mimetype": "text/x-python",
   "name": "python",
   "nbconvert_exporter": "python",
   "pygments_lexer": "ipython3",
   "version": "3.8.5-final"
  }
 },
 "nbformat": 4,
 "nbformat_minor": 2
}